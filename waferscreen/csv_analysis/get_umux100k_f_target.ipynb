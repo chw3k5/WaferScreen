{
 "cells": [
  {
   "cell_type": "markdown",
   "id": "8a871c51",
   "metadata": {},
   "source": [
    "# Construct frequency target list from a shit load of yaml files"
   ]
  },
  {
   "cell_type": "code",
   "execution_count": 1,
   "id": "91febfb8",
   "metadata": {},
   "outputs": [],
   "source": [
    "import yaml\n",
    "import numpy as np\n",
    "import matplotlib.pyplot as plt\n",
    "%matplotlib widget"
   ]
  },
  {
   "cell_type": "code",
   "execution_count": 2,
   "id": "95e57c44",
   "metadata": {},
   "outputs": [],
   "source": [
    "path='band_yamls/'"
   ]
  },
  {
   "cell_type": "code",
   "execution_count": 3,
   "id": "8af9fb3a",
   "metadata": {},
   "outputs": [],
   "source": [
    "filenames=[]\n",
    "for ii in range(14):\n",
    "    filenames.append('band%02da.yml'%ii)\n",
    "    filenames.append('band%02db.yml'%ii)    "
   ]
  },
  {
   "cell_type": "code",
   "execution_count": 4,
   "id": "693185ee",
   "metadata": {},
   "outputs": [
    {
     "data": {
      "application/vnd.jupyter.widget-view+json": {
       "model_id": "f7c874aa8c394aaf9e53e7132a77cb07",
       "version_major": 2,
       "version_minor": 0
      },
      "text/plain": [
       "Canvas(toolbar=Toolbar(toolitems=[('Home', 'Reset original view', 'home', 'home'), ('Back', 'Back to previous …"
      ]
     },
     "metadata": {},
     "output_type": "display_data"
    },
    {
     "data": {
      "application/vnd.jupyter.widget-view+json": {
       "model_id": "5b3d21b181694e63a65c24d38a8a93b6",
       "version_major": 2,
       "version_minor": 0
      },
      "text/plain": [
       "Canvas(toolbar=Toolbar(toolitems=[('Home', 'Reset original view', 'home', 'home'), ('Back', 'Back to previous …"
      ]
     },
     "metadata": {},
     "output_type": "display_data"
    }
   ],
   "source": [
    "f=[]\n",
    "for filename in filenames:\n",
    "    with open(path+filename, 'r') as ymlfile:\n",
    "        d = yaml.load(ymlfile,Loader=yaml.SafeLoader)\n",
    "    for ii in range(d['nres']):\n",
    "        f.append(d['resonators'][ii]['f0'])\n",
    "\n",
    "f=np.array(f)*1e-6        \n",
    "plt.figure(1)        \n",
    "plt.plot(f)\n",
    "\n",
    "plt.figure(2)\n",
    "plt.plot(np.diff(f))\n",
    "plt.show()\n",
    "        \n",
    "    "
   ]
  },
  {
   "cell_type": "code",
   "execution_count": 5,
   "id": "71f24943",
   "metadata": {},
   "outputs": [],
   "source": [
    "f_odd = []\n",
    "f_odd_index = []\n",
    "for ii in np.arange(1,14,2):\n",
    "    f_odd.extend(f[66*ii:66*ii+66])\n",
    "    f_odd_index.extend(np.arange(66*ii,66*ii+66,1))\n",
    "    \n",
    "f_even = []\n",
    "f_even_index = []\n",
    "for ii in np.arange(0,14,2):\n",
    "    f_even.extend(f[66*ii:66*ii+66])\n",
    "    f_even_index.extend(np.arange(66*ii,66*ii+66,1))\n",
    "\n",
    "f_odd_arr = np.zeros((66*7,2))\n",
    "f_odd_arr[:,0] = np.array(f_odd_index)\n",
    "f_odd_arr[:,1] = np.array(f_odd)\n",
    "\n",
    "f_even_arr = np.zeros((66*7,2))\n",
    "f_even_arr[:,0] = np.array(f_even_index)\n",
    "f_even_arr[:,1] = np.array(f_even)\n",
    "    "
   ]
  },
  {
   "cell_type": "code",
   "execution_count": 6,
   "id": "b692fe27",
   "metadata": {},
   "outputs": [],
   "source": [
    "np.savez('umux100k_v3p3_f0target.npz',f=f,f_odd=f_odd_arr,f_even=f_even_arr)"
   ]
  },
  {
   "cell_type": "code",
   "execution_count": 7,
   "id": "1309ff32",
   "metadata": {},
   "outputs": [],
   "source": [
    "d=np.load('umux100k_v3p3_f0target.npz')"
   ]
  },
  {
   "cell_type": "code",
   "execution_count": 8,
   "id": "bac961af",
   "metadata": {},
   "outputs": [
    {
     "data": {
      "application/vnd.jupyter.widget-view+json": {
       "model_id": "3d4da74bbe2844d18dc9092cf1a7c330",
       "version_major": 2,
       "version_minor": 0
      },
      "text/plain": [
       "Canvas(toolbar=Toolbar(toolitems=[('Home', 'Reset original view', 'home', 'home'), ('Back', 'Back to previous …"
      ]
     },
     "metadata": {},
     "output_type": "display_data"
    }
   ],
   "source": [
    "plt.figure(3)\n",
    "plt.plot(d['f'],'bo-')\n",
    "plt.plot(d['f_odd'][:,0],d['f_odd'][:,1],'ro')\n",
    "\n",
    "for ii in range(0,15):\n",
    "    plt.axvline(ii*66,color='k',linestyle='--')\n",
    "plt.show()"
   ]
  }
 ],
 "metadata": {
  "kernelspec": {
   "display_name": "Python 3",
   "language": "python",
   "name": "python3"
  },
  "language_info": {
   "codemirror_mode": {
    "name": "ipython",
    "version": 3
   },
   "file_extension": ".py",
   "mimetype": "text/x-python",
   "name": "python",
   "nbconvert_exporter": "python",
   "pygments_lexer": "ipython3",
   "version": "3.8.5"
  }
 },
 "nbformat": 4,
 "nbformat_minor": 5
}
